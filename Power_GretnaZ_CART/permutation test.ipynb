{
 "metadata": {
  "language_info": {
   "codemirror_mode": {
    "name": "ipython",
    "version": 3
   },
   "file_extension": ".py",
   "mimetype": "text/x-python",
   "name": "python",
   "nbconvert_exporter": "python",
   "pygments_lexer": "ipython3",
   "version": "3.8.3"
  },
  "orig_nbformat": 2,
  "kernelspec": {
   "name": "python3",
   "display_name": "Python 3.8.3 64-bit ('base': conda)"
  },
  "interpreter": {
   "hash": "daa3aa8daaf50b2af53e53fcbec8e941d29f63f7cea6bc00a7b10bf4f90df022"
  }
 },
 "nbformat": 4,
 "nbformat_minor": 2,
 "cells": [
  {
   "cell_type": "code",
   "execution_count": 2,
   "metadata": {},
   "outputs": [],
   "source": [
    "# 导入模块\n",
    "import numpy as np      \n",
    "from scipy import stats     # 计算相关\n",
    "from sklearn.tree import DecisionTreeRegressor      # 回归决策树\n",
    "from tqdm import trange     # 显示循环进度\n",
    "from sklearn.metrics import mean_squared_error      # 计算MSE"
   ]
  },
  {
   "cell_type": "code",
   "execution_count": 6,
   "metadata": {},
   "outputs": [],
   "source": [
    "# 导入数据\n",
    "fc_path = \"D:\\PLY\\honesty\\GRETNA_workspace\\Power_FC\\GretnaSFCMatrixZ\"       # 功能连接路径\n",
    "behavior_path = \"D:\\PLY\\honesty\\Behavior_text\\lierate.txt\"      # 行为数据路径\n",
    "behavior = np.loadtxt(behavior_path)"
   ]
  },
  {
   "cell_type": "code",
   "execution_count": 7,
   "metadata": {
    "tags": []
   },
   "outputs": [],
   "source": [
    "# 读取每个被试的功能连接矩阵并拼接\n",
    "joint_fc = []\n",
    "for i in range(102, 133):       # 注意range的范围\n",
    "    if i==105 or i==117:\n",
    "        continue\n",
    "    file_path = fc_path + '\\zSub_' + str(i) + '.txt'\n",
    "    raw_fc = np.loadtxt(file_path)     # 读取txt文件，raw_fc.shape查看行列数\n",
    "    clear_fc = raw_fc[np.triu_indices(raw_fc.shape[0], k=1)]      # 取上三角矩阵并转成一行值\n",
    "    joint_fc.append(clear_fc)       # 用列表拼接每个被试的值\n",
    "final_fc = np.array(joint_fc)       # 列表转成数组"
   ]
  },
  {
   "cell_type": "code",
   "execution_count": null,
   "metadata": {},
   "outputs": [],
   "source": [
    "# 定义函数CART\n",
    "def CART(fc, behavior):\n",
    "    # 使用留一法训练被试的回归树模型\n",
    "    sub = fc.shape[0]     # 被试数赋值给变量sub，便于使用\n",
    "    num_fc = fc.shape[1]      # 功能连接数赋值给变量num_fc，便于构造空数组\n",
    "    behavior = behavior.reshape((sub, 1))        # reshape行为数据，确保相关不报错\n",
    "    r_corr = np.zeros(num_fc)       # 构造空的单个被试的R值与P值数组\n",
    "    p_corr = np.zeros(num_fc)\n",
    "    predict_behavior = []        # 定义空列表记录全部被试预测的行为结果\n",
    "    for i in range(sub):\n",
    "        # 提取数据集\n",
    "        train_fc = np.delete(fc, i, axis=0)       # 留一法提取数据集\n",
    "        test_fc = fc[i]\n",
    "        train_behavior = np.delete(behavior, i, axis=0)\n",
    "        test_behavior = behavior[i]\n",
    "        # 计算相关\n",
    "        for j in range(num_fc):\n",
    "            r_corr[j], p_corr[j] = stats.spearmanr(train_fc[:, j], train_behavior)      # 使用spearman相关计算功能连接与行为相关的R值与P值\n",
    "        # 特征选取（R）\n",
    "        selection = r_corr > np.percentile(r_corr, 95)      # 选取有最大前5%的R值的功能连接值作为特征\n",
    "        # 构造数据集\n",
    "        train_set = train_fc[:, selection]      # 使用选取的特征构造训练集和测试集\n",
    "        test_set = test_fc[selection]\n",
    "        test_set = test_set.reshape((1,-1))\n",
    "        # 训练回归树模型\n",
    "        regression = DecisionTreeRegressor(max_depth = 5)\n",
    "        regression.fit(train_set, train_behavior)       # fit训练决策树\n",
    "        predict_result = regression.predict(test_set)       # predict预测测试集结果\n",
    "        predict_behavior.append(predict_result)     # 连接29名被试predict的结果\n",
    "    # MSE评估模型表现\n",
    "    model_mse = mean_squared_error(predict_behavior, behavior)\n",
    "    return model_mse"
   ]
  },
  {
   "cell_type": "code",
   "execution_count": 4,
   "metadata": {},
   "outputs": [
    {
     "output_type": "stream",
     "name": "stderr",
     "text": [
      "100%|██████████| 3/3 [32:34<00:00, 651.38s/it][0.06358481125126338, 0.05846104362564744, 0.049479211665536066]\n",
      "\n"
     ]
    }
   ],
   "source": [
    "# 置换检验\n",
    "mse_set = []\n",
    "permu_num = 10      # 设定置换检验次数和阈值\n",
    "permu_thr = 0.02727\n",
    "for k in trange(permu_num):     # trange显示置换检验进度\n",
    "    shuffle_behavior = np.random.permutation(behavior)      # shuffle行为数据\n",
    "    model_mse = CART(final_fc, shuffle_behavior)        # 调用函数CART\n",
    "    mse_set.append(model_mse)\n",
    "print(mse_set)\n",
    "model_p = (1 + np.sum(np.array(mse_set) < permu_thr)) / (1 + permu_num)\n",
    "print(model_p)"
   ]
  }
 ]
}