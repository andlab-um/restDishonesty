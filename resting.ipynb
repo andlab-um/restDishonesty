{
 "cells": [
  {
   "cell_type": "code",
   "execution_count": null,
   "metadata": {},
   "outputs": [],
   "source": [
    "import os\n",
    "import json\n",
    "# data operation\n",
    "import numpy as np\n",
    "from scipy import stats\n",
    "# plot\n",
    "# import seaborn as sns\n",
    "import matplotlib.pylab as plt\n",
    "%config InlineBackend.figure_formats = [\"svg\"]\n",
    "# custom functions\n",
    "from utils import *"
   ]
  },
  {
   "cell_type": "markdown",
   "metadata": {},
   "source": [
    "## Define paths and constants"
   ]
  },
  {
   "cell_type": "code",
   "execution_count": null,
   "metadata": {},
   "outputs": [],
   "source": [
    "# random seed\n",
    "seed = 9873\n",
    "# permutation number\n",
    "# permutation_n = 1000\n",
    "\n",
    "# internal and external dataset path\n",
    "internal_path = \"./data/internal\"\n",
    "external_path = \"./data/external\"\n",
    "# subjects to exclude\n",
    "internal_exclude = []\n",
    "external_exclude = []\n",
    "\n",
    "# neurosynth network path\n",
    "network2path = {\n",
    "    \"control\": \"./data/ROIs/cognitive control_association-test_z_FDR_0.01.nii\",\n",
    "    \"moral\": \"./data/ROIs/moral_association-test_z_FDR_0.01.nii\",\n",
    "    \"reward\": \"./data/ROIs/reward_association-test_z_FDR_0.01.nii\",\n",
    "    \"self\": \"./data/ROIs/self referential_association-test_z_FDR_0.01.nii\"\n",
    "}\n",
    "network2rois_path = \"./data/generate/network2rois.json\"\n",
    "\n",
    "# dataset X, y\n",
    "in_data_path = \"./data/generate/in_data.npy\"\n",
    "ex_data_path = \"./data/generate/ex_data.npy\"\n",
    "\n",
    "# community names/affiliation\n",
    "comm_names_path = \"./data/ROIs/power264CommunityNamesAbb.txt\"\n",
    "comm_affi_path = \"./data/ROIs/power264CommunityAffiliation.1D\""
   ]
  },
  {
   "cell_type": "markdown",
   "metadata": {},
   "source": [
    "## Get input data"
   ]
  },
  {
   "cell_type": "markdown",
   "metadata": {},
   "source": [
    "### Load pre-defined network based on 264ROIs"
   ]
  },
  {
   "cell_type": "code",
   "execution_count": null,
   "metadata": {},
   "outputs": [],
   "source": [
    "# read community and affiliation\n",
    "comm_names = np.loadtxt(comm_names_path, dtype=str)\n",
    "comm_affi = np.loadtxt(comm_affi_path, dtype=int)\n",
    "# get affiliation between community names and roi indexs\n",
    "comm2rois = {comm: np.argwhere(comm_affi == (i + 1)).reshape(-1,).tolist() for i, comm in enumerate(comm_names)}"
   ]
  },
  {
   "cell_type": "markdown",
   "metadata": {},
   "source": [
    "### Calculate overlap between neurosynth ROIs and 264ROIs"
   ]
  },
  {
   "cell_type": "code",
   "execution_count": null,
   "metadata": {},
   "outputs": [],
   "source": [
    "# get all overlapping ROIs' index in 264ROIs template\n",
    "if os.path.exists(network2rois_path):\n",
    "    with open(network2rois_path, \"r\") as f:\n",
    "        network2rois = json.load(f)\n",
    "else:\n",
    "    network2rois = extract_roi(network2path, network2rois_path)\n",
    "indexs = list(network2rois.values())\n",
    "select_rois = sorted(list(set(indexs[0]).union(*indexs[1:])))"
   ]
  },
  {
   "cell_type": "markdown",
   "metadata": {},
   "source": [
    "### Extract functional connectivity matrix and behavioral data"
   ]
  },
  {
   "cell_type": "code",
   "execution_count": null,
   "metadata": {},
   "outputs": [],
   "source": [
    "# extract dataset from internal/external dataset\n",
    "# (n_in_subjects, n_features + 1)\n",
    "in_data = np.load(in_data_path) if os.path.exists(in_data_path) else get_input(internal_path, internal_exclude, in_data_path, select_rois)\n",
    "# (n_ex_subjects, n_features + 1)\n",
    "ex_data = np.load(ex_data_path) if os.path.exists(ex_data_path) else get_input(external_path, external_exclude, ex_data_path, select_rois)"
   ]
  },
  {
   "cell_type": "markdown",
   "metadata": {},
   "source": [
    "### Prepare input data"
   ]
  },
  {
   "cell_type": "code",
   "execution_count": null,
   "metadata": {},
   "outputs": [],
   "source": [
    "# split features and predictions\n",
    "in_X, in_y = in_data[:, :-1], in_data[:, -1]\n",
    "ex_X, ex_y = ex_data[:, :-1], ex_data[:, -1]"
   ]
  },
  {
   "cell_type": "markdown",
   "metadata": {},
   "source": [
    "## CPM"
   ]
  },
  {
   "cell_type": "markdown",
   "metadata": {},
   "source": [
    "### Internal validation"
   ]
  },
  {
   "cell_type": "code",
   "execution_count": null,
   "metadata": {},
   "outputs": [],
   "source": [
    "cv = \"loocv\"\n",
    "# cv = 10"
   ]
  },
  {
   "cell_type": "code",
   "execution_count": null,
   "metadata": {},
   "outputs": [],
   "source": [
    "y_actual, y_predict, _, feature_per, feature_freq = prediction(in_X, in_y, in_X, in_y, cv, feature_index=None, validation=\"kfold\")\n",
    "coef, pvalue = stats.spearmanr(y_actual, y_predict)\n",
    "print(f\"internal validation: coef is {coef}, p value is {pvalue:.5f}\")"
   ]
  },
  {
   "cell_type": "markdown",
   "metadata": {},
   "source": [
    "### External validation"
   ]
  },
  {
   "cell_type": "code",
   "execution_count": null,
   "metadata": {},
   "outputs": [],
   "source": [
    "# Select features based on fc-behavior correlation\n",
    "feature_index = sorted(np.argwhere(feature_freq/in_X.shape[0] >= 1.0).reshape(-1, ).tolist()) # only for LOOCV\n",
    "len(feature_index)"
   ]
  },
  {
   "cell_type": "code",
   "execution_count": null,
   "metadata": {},
   "outputs": [],
   "source": [
    "# using selected features to train on internal data and test on external data\n",
    "inex_y_actual, inex_y_predict, inex_model_coefs, _, _ = prediction(in_X, in_y, ex_X, ex_y, cv, feature_index, \"single\")\n",
    "inex_coef, inex_pvalue = stats.spearmanr(inex_y_actual, inex_y_predict)\n",
    "print(f\"external validation: coef is {inex_coef}, p value is {inex_pvalue:.5f}\")\n",
    "# permutation\n",
    "inex_coefs = permutation(in_X, in_y, ex_X, ex_y, inex_coef, feature_index, \"single\")"
   ]
  },
  {
   "cell_type": "markdown",
   "metadata": {},
   "source": [
    "### Rank features"
   ]
  },
  {
   "cell_type": "code",
   "execution_count": null,
   "metadata": {},
   "outputs": [],
   "source": [
    "rank_coefs = []\n",
    "rank_pvalues = []\n",
    "for i in range(0, len(feature_index)):\n",
    "    feature_filter = np.delete(feature_index, i)\n",
    "    # using selected features to train on internal data and test on external data\n",
    "    tmp_inex_y_actual, tmp_inex_y_predict, tmp_inex_model_coefs, _, _ = prediction(in_X, in_y, ex_X, ex_y, cv, feature_filter, \"single\")\n",
    "    tmp_inex_coef, tmp_inex_pvalue = stats.spearmanr(tmp_inex_y_actual, tmp_inex_y_predict)\n",
    "    rank_coefs.append(tmp_inex_coef)\n",
    "    rank_pvalues.append(tmp_inex_pvalue)\n",
    "# compute feature importance\n",
    "rank_features = inex_coef - np.array(rank_coefs)\n",
    "# standardize rank\n",
    "rank_features = (rank_features - rank_features.mean()) / rank_features.std()"
   ]
  },
  {
   "cell_type": "markdown",
   "metadata": {},
   "source": [
    "## Plot"
   ]
  },
  {
   "cell_type": "markdown",
   "metadata": {},
   "source": [
    "### FC matrix recovery"
   ]
  },
  {
   "cell_type": "code",
   "execution_count": null,
   "metadata": {},
   "outputs": [],
   "source": [
    "# FC counting matrix, 1 means connection between features, 0 means no connection\n",
    "fc_sum = recovery_fc(select_rois, feature_index, 1)\n",
    "# FC importance matrix\n",
    "rank_fc = recovery_fc(select_rois, feature_index, rank_features)"
   ]
  },
  {
   "cell_type": "markdown",
   "metadata": {},
   "source": [
    "### Plot results of intenal validation"
   ]
  },
  {
   "cell_type": "code",
   "execution_count": null,
   "metadata": {},
   "outputs": [],
   "source": [
    "# prediction vs. target\n",
    "plot_corr(y_actual, y_predict, \"./plot/internal_corr.svg\", \"orange\")\n",
    "print(f\"internal validation: coef is {coef}, p value is {pvalue:.5f}\")"
   ]
  },
  {
   "cell_type": "markdown",
   "metadata": {},
   "source": [
    "### Plot results of extenal validation"
   ]
  },
  {
   "cell_type": "code",
   "execution_count": null,
   "metadata": {},
   "outputs": [],
   "source": [
    "# prediction vs. target\n",
    "plot_corr(inex_y_actual, inex_y_predict, \"./plot/external_corr.svg\", \"#F17D80\")\n",
    "print(f\"external validation: coef is {inex_coef}, p value is {inex_pvalue:.5f}\")"
   ]
  },
  {
   "cell_type": "code",
   "execution_count": null,
   "metadata": {},
   "outputs": [],
   "source": [
    "# permutation\n",
    "plot_permutation(inex_coef, inex_coefs, \"./plot/external_permutation.svg\", \"#F17D80\")"
   ]
  },
  {
   "cell_type": "markdown",
   "metadata": {},
   "source": [
    "### Plot summed number of features"
   ]
  },
  {
   "cell_type": "code",
   "execution_count": null,
   "metadata": {},
   "outputs": [],
   "source": [
    "# according to 14 communities\n",
    "plot_conn(comm2rois, fc_sum, save_path=\"./plot/comm_fc_sum.svg\", fontsize=16, colormap=plt.cm.Greens, annot=True)"
   ]
  },
  {
   "cell_type": "code",
   "execution_count": null,
   "metadata": {},
   "outputs": [],
   "source": [
    "# according to 4 networks\n",
    "plot_conn(network2rois, fc_sum, save_path=\"./plot/network_fc_sum.svg\", fontsize=20, colormap=plt.cm.Greens, annot=True)"
   ]
  },
  {
   "cell_type": "markdown",
   "metadata": {},
   "source": [
    "### Plot feature importance"
   ]
  },
  {
   "cell_type": "code",
   "execution_count": null,
   "metadata": {},
   "outputs": [],
   "source": [
    "# according to 14 communities\n",
    "plot_conn(comm2rois, rank_fc, save_path = f'./plot/comm_rank_model_fn-{len(feature_index)}.svg', fontsize=16)"
   ]
  },
  {
   "cell_type": "code",
   "execution_count": null,
   "metadata": {},
   "outputs": [],
   "source": [
    "# according to 4 networks\n",
    "plot_conn(network2rois, rank_fc, save_path = f'./plot/network_rank_model_fn-{len(feature_index)}.svg', fontsize=20)"
   ]
  },
  {
   "cell_type": "markdown",
   "metadata": {},
   "source": [
    "### Plot markers and selected features"
   ]
  },
  {
   "cell_type": "code",
   "execution_count": null,
   "metadata": {},
   "outputs": [],
   "source": [
    "# selected FC recovery \n",
    "feature_beh_corr = np.array([stats.pearsonr(in_X[:, i], in_y)[0] for i in feature_index])\n",
    "ex_fc_coef = recovery_fc(select_rois, feature_index, feature_beh_corr)"
   ]
  },
  {
   "cell_type": "code",
   "execution_count": null,
   "metadata": {},
   "outputs": [],
   "source": [
    "from nilearn import plotting, datasets\n",
    "power = datasets.fetch_coords_power_2011()\n",
    "coords = np.vstack((power.rois[\"x\"], power.rois[\"y\"], power.rois[\"z\"])).T\n",
    "spheres_masker = input_data.NiftiSpheresMasker(seeds=coords, radius=5)"
   ]
  },
  {
   "cell_type": "code",
   "execution_count": null,
   "metadata": {},
   "outputs": [],
   "source": [
    "color_mapping = {\n",
    "    \"control\": \"#129490\",\n",
    "    \"moral\": \"#70B77E\",\n",
    "    \"reward\": \"#E0A890\",\n",
    "    \"self\": \"#CE1483\"\n",
    "}\n",
    "sub_coord = np.array([coords[i] for i in select_rois])\n",
    "roi2network = {i: network for network, rois in network2rois.items() for i in rois}\n",
    "node_color = [color_mapping[roi2network[i]] for i in select_rois]"
   ]
  },
  {
   "cell_type": "code",
   "execution_count": null,
   "metadata": {},
   "outputs": [],
   "source": [
    "marker_view = plotting.view_markers(sub_coord, marker_color=node_color, marker_size=8)\n",
    "marker_view.open_in_browser()"
   ]
  },
  {
   "cell_type": "code",
   "execution_count": null,
   "metadata": {},
   "outputs": [],
   "source": [
    "ex_view = plotting.view_connectome(ex_fc_coef[np.ix_(select_rois, select_rois)], coords[select_rois], node_color=node_color, node_size=8, edge_threshold=\"99%\", colorbar_fontsize=20, symmetric_cmap=False, edge_cmap=\"Reds\")\n",
    "ex_view.open_in_browser()"
   ]
  }
 ],
 "metadata": {
  "interpreter": {
   "hash": "ff77f3eb70db2c2db9f44e5fe276b0e815d6106702c860e23aa9ee25eff5b373"
  },
  "kernelspec": {
   "display_name": "Python 3.8.0 64-bit ('fc': conda)",
   "language": "python",
   "name": "python3"
  },
  "language_info": {
   "codemirror_mode": {
    "name": "ipython",
    "version": 3
   },
   "file_extension": ".py",
   "mimetype": "text/x-python",
   "name": "python",
   "nbconvert_exporter": "python",
   "pygments_lexer": "ipython3",
   "version": "3.8.3"
  },
  "orig_nbformat": 4
 },
 "nbformat": 4,
 "nbformat_minor": 2
}
