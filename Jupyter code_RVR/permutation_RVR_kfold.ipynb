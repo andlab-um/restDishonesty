{
 "cells": [
  {
   "cell_type": "code",
   "execution_count": 1,
   "metadata": {},
   "outputs": [],
   "source": [
    "import time\n",
    "from tqdm import trange\n",
    "from joblib import Parallel, delayed\n",
    "\n",
    "import numpy as np\n",
    "import pandas as pd\n",
    "from scipy import stats\n",
    "from sklearn.model_selection import RepeatedKFold\n",
    "from sklearn_rvm import EMRVR"
   ]
  },
  {
   "cell_type": "code",
   "execution_count": 2,
   "metadata": {},
   "outputs": [],
   "source": [
    "data = pd.read_csv(\"./wholeSFC.csv\")\n",
    "# first column: y, other columns: feature\n",
    "data.columns = [\"y\"] + [f\"feature{i}\" for i in range(len(data.columns)-1)]"
   ]
  },
  {
   "cell_type": "code",
   "execution_count": 3,
   "metadata": {},
   "outputs": [],
   "source": [
    "# get all data\n",
    "X = data.iloc[:, 1:].values\n",
    "y = data.iloc[:, 0].values"
   ]
  },
  {
   "cell_type": "code",
   "execution_count": 4,
   "metadata": {},
   "outputs": [
    {
     "name": "stderr",
     "output_type": "stream",
     "text": [
      " 50%|█████     | 1/2 [00:09<00:09,  9.50s/it]"
     ]
    },
    {
     "name": "stdout",
     "output_type": "stream",
     "text": [
      "permutation 0: coef is 0.02991, p value is 0.61199\n"
     ]
    },
    {
     "name": "stderr",
     "output_type": "stream",
     "text": [
      "100%|██████████| 2/2 [00:18<00:00,  9.11s/it]"
     ]
    },
    {
     "name": "stdout",
     "output_type": "stream",
     "text": [
      "permutation 1: coef is 0.07385, p value is 0.20989\n",
      "0.0\n"
     ]
    },
    {
     "name": "stderr",
     "output_type": "stream",
     "text": [
      "\n"
     ]
    }
   ],
   "source": [
    "permu_num = 1000\n",
    "random_state = 88\n",
    "coefs, pvalues = np.zeros(permu_num), np.zeros(permu_num)\n",
    "# permutation test\n",
    "def regression(y_shuffle, train_index, test_index):\n",
    "    # select feature based on p value\n",
    "    feature_index = np.argwhere(np.array([stats.pearsonr(X[train_index, i], y_shuffle[train_index])[1] for i in range(X.shape[1])]) < 0.01).reshape(-1, )\n",
    "    # get train&&test data\n",
    "    X_train, X_test = X[np.ix_(train_index, feature_index)], X[np.ix_(test_index, feature_index)]\n",
    "    y_train, y_test = y_shuffle[train_index], y_shuffle[test_index]\n",
    "    # fit data and predict\n",
    "    # https://github.com/JamesRitchie/scikit-rvm/issues/9\n",
    "    rvr = EMRVR(kernel=\"linear\", bias_used=False)\n",
    "    rvr.fit(X_train, y_train)\n",
    "    y_p = rvr.predict(X_test)\n",
    "    # add predict value and ground truth\n",
    "    return dict(y_t=y_test.tolist(), y_p=y_p.tolist())\n",
    "\n",
    "with Parallel(n_jobs=32) as parallel:\n",
    "    for i in trange(permu_num):\n",
    "        # shuffle y\n",
    "        y_shuffle = np.random.RandomState(seed=i).permutation(y)\n",
    "        # define kfold\n",
    "        rkf = RepeatedKFold(n_splits=10, n_repeats=10, random_state=random_state)\n",
    "        # save predict and actual value\n",
    "        y_actual, y_predict = list(), list()\n",
    "        result = parallel(delayed(regression)(y_shuffle, train_index, test_index)\n",
    "            for train_index, test_index in rkf.split(X))\n",
    "        # save all predict value and actual value\n",
    "        [(y_actual.extend(r[\"y_t\"]), y_predict.extend(r[\"y_p\"])) for r in result]\n",
    "        # get correlation coefficient\n",
    "        coefs[i], pvalues[i] = stats.spearmanr(y_actual, y_predict)\n",
    "        print(f\"permutation {i}: coef is {coefs[i]:.5f}, p value is {pvalues[i]:.5f}\")\n",
    "    # get p_value of permutation\n",
    "    permutation_p = (coefs > 0.1928).mean()\n",
    "    print(permutation_p)"
   ]
  },
  {
   "cell_type": "code",
   "execution_count": 5,
   "metadata": {},
   "outputs": [],
   "source": [
    "# save coefficient and pvalue\n",
    "df = pd.DataFrame(dict(coef=coefs, pvalue=pvalues))\n",
    "df.to_csv(f\"./spearman_permutation-{permu_num}_datetime-{time.strftime('%Y%m%d-%H-%M-%S', time.localtime())}.csv\", index=False)"
   ]
  }
 ],
 "metadata": {
  "interpreter": {
   "hash": "90f83771962d5ee6f5377d2485901ddfbf5833a3513c19567bdca5db7955ab0d"
  },
  "kernelspec": {
   "display_name": "Python 3.9.5 64-bit ('base': conda)",
   "name": "python3"
  },
  "language_info": {
   "codemirror_mode": {
    "name": "ipython",
    "version": 3
   },
   "file_extension": ".py",
   "mimetype": "text/x-python",
   "name": "python",
   "nbconvert_exporter": "python",
   "pygments_lexer": "ipython3",
   "version": "3.9.5"
  },
  "orig_nbformat": 4
 },
 "nbformat": 4,
 "nbformat_minor": 2
}
