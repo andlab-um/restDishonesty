{
 "cells": [
  {
   "cell_type": "code",
   "execution_count": null,
   "metadata": {},
   "outputs": [],
   "source": [
    "import os\n",
    "import json\n",
    "# data operation\n",
    "import numpy as np\n",
    "from scipy import stats\n",
    "# plot\n",
    "# import seaborn as sns\n",
    "import matplotlib.pylab as plt\n",
    "%config InlineBackend.figure_formats = [\"svg\"]\n",
    "# custom functions\n",
    "from utils import *"
   ]
  },
  {
   "cell_type": "markdown",
   "metadata": {},
   "source": [
    "## Define paths and constants"
   ]
  },
  {
   "cell_type": "code",
   "execution_count": null,
   "metadata": {},
   "outputs": [],
   "source": [
    "# random seed\n",
    "seed = 9873\n",
    "# permutation number\n",
    "# permutation_n = 1000\n",
    "\n",
    "# internal and external dataset path\n",
    "internal_path = \"./data/internal\"\n",
    "external_path = \"./data/external\"\n",
    "# subjects to exclude\n",
    "internal_exclude = []\n",
    "external_exclude = []\n",
    "\n",
    "# neurosynth network path\n",
    "network2path = {\n",
    "    \"control\": \"./data/ROIs/cognitive control_association-test_z_FDR_0.01.nii\",\n",
    "    \"moral\": \"./data/ROIs/moral_association-test_z_FDR_0.01.nii\",\n",
    "    \"reward\": \"./data/ROIs/reward_association-test_z_FDR_0.01.nii\",\n",
    "    \"self\": \"./data/ROIs/self referential_association-test_z_FDR_0.01.nii\"\n",
    "}\n",
    "network2rois_path = \"./data/generate/network2rois.json\"\n",
    "\n",
    "# dataset X, y\n",
    "in_data_path = \"./data/generate/in_data.npy\"\n",
    "ex_data_path = \"./data/generate/ex_data.npy\"\n",
    "\n",
    "# community names/affiliation\n",
    "comm_names_path = \"./data/ROIs/power264CommunityNamesAbb.txt\"\n",
    "comm_affi_path = \"./data/ROIs/power264CommunityAffiliation.1D\""
   ]
  },
  {
   "cell_type": "markdown",
   "metadata": {},
   "source": [
    "## Get input data"
   ]
  },
  {
   "cell_type": "markdown",
   "metadata": {},
   "source": [
    "### Load pre-defined network based on 264ROIs"
   ]
  },
  {
   "cell_type": "code",
   "execution_count": null,
   "metadata": {},
   "outputs": [],
   "source": [
    "# read community and affiliation\n",
    "comm_names = np.loadtxt(comm_names_path, dtype=str)\n",
    "comm_affi = np.loadtxt(comm_affi_path, dtype=int)\n",
    "# comm_names[-1] = \"UN\"\n",
    "# get affiliation between community names and roi indexs\n",
    "comm2rois = {comm: np.argwhere(comm_affi == (i + 1)).reshape(-1,).tolist() for i, comm in enumerate(comm_names)}"
   ]
  },
  {
   "cell_type": "markdown",
   "metadata": {},
   "source": [
    "### Calculate overlap between neurosynth ROIs and 264ROIs"
   ]
  },
  {
   "cell_type": "code",
   "execution_count": null,
   "metadata": {},
   "outputs": [],
   "source": [
    "# get all overlapping ROIs' index in 264ROIs template\n",
    "if os.path.exists(network2rois_path):\n",
    "    with open(network2rois_path, \"r\") as f:\n",
    "        network2rois = json.load(f)\n",
    "else:\n",
    "    network2rois = extract_roi(network2path, network2rois_path)\n",
    "indexs = list(network2rois.values())\n",
    "select_rois = sorted(list(set(indexs[0]).union(*indexs[1:])))"
   ]
  },
  {
   "cell_type": "markdown",
   "metadata": {},
   "source": [
    "### Extract functional connectivity matrix and behavioral data"
   ]
  },
  {
   "cell_type": "code",
   "execution_count": null,
   "metadata": {},
   "outputs": [],
   "source": [
    "# extract dataset from internal/external dataset\n",
    "# (n_in_subjects, n_features + 1)\n",
    "in_data = np.load(in_data_path) if os.path.exists(in_data_path) else get_input(internal_path, internal_exclude, in_data_path, select_rois)\n",
    "# (n_ex_subjects, n_features + 1)\n",
    "ex_data = np.load(ex_data_path) if os.path.exists(ex_data_path) else get_input(external_path, external_exclude, ex_data_path, select_rois)"
   ]
  },
  {
   "cell_type": "markdown",
   "metadata": {},
   "source": [
    "### Prepare input data"
   ]
  },
  {
   "cell_type": "code",
   "execution_count": null,
   "metadata": {},
   "outputs": [],
   "source": [
    "# split features and predictions\n",
    "in_X, in_y = in_data[:, :-1], in_data[:, -1]\n",
    "ex_X, ex_y = ex_data[:, :-1], ex_data[:, -1]"
   ]
  },
  {
   "cell_type": "markdown",
   "metadata": {},
   "source": [
    "## Select features based on fc-behavior correlation"
   ]
  },
  {
   "cell_type": "code",
   "execution_count": null,
   "metadata": {},
   "outputs": [],
   "source": [
    "cv = \"loocv\"\n",
    "# cv = 10"
   ]
  },
  {
   "cell_type": "code",
   "execution_count": null,
   "metadata": {},
   "outputs": [],
   "source": [
    "y_actual, y_predict, _, feature_per, feature_freq = prediction(in_X, in_y, in_X, in_y, cv, feature_index=None, validation=\"feature\")\n",
    "# get correlation coefficient\n",
    "coef, pvalue = stats.spearmanr(y_actual, y_predict)\n",
    "# print(f\"interal CV result: coef is {coef}, p value is {pvalue:.5f}\")"
   ]
  },
  {
   "cell_type": "code",
   "execution_count": null,
   "metadata": {},
   "outputs": [],
   "source": [
    "# select most frequent feature according to the feature numbers in every cv\n",
    "# feature_index = sorted(feature_freq.argsort()[::-1][:int(np.percentile(feature_per, 80))])\n",
    "feature_index = sorted(np.argwhere(feature_freq/(in_X.shape[0]) > 0.9).reshape(-1, ).tolist())\n",
    "# feature_index = sorted(np.array(np.where(feature_freq>0)).reshape(-1, ).tolist())\n",
    "# feature_index = sorted(feature_freq.argsort()[::-1][:int(len(feature_freq)*0.1)])\n",
    "len(feature_index)"
   ]
  },
  {
   "cell_type": "markdown",
   "metadata": {},
   "source": [
    "## Permutation test"
   ]
  },
  {
   "cell_type": "markdown",
   "metadata": {},
   "source": [
    "### Fix features on internal data"
   ]
  },
  {
   "cell_type": "code",
   "execution_count": null,
   "metadata": {},
   "outputs": [],
   "source": [
    "# using selected features to test on internal data\n",
    "in_y_actual, in_y_predict, in_model_coefs, _, _ = prediction(in_X, in_y, in_X, in_y, cv, feature_index, \"feature\")\n",
    "in_coef, in_pvalue = stats.spearmanr(in_y_actual, in_y_predict)\n",
    "# permutation\n",
    "in_coefs = permutation(in_X, in_y, in_X, in_y, in_coef, feature_index, \"feature\")"
   ]
  },
  {
   "cell_type": "code",
   "execution_count": null,
   "metadata": {},
   "outputs": [],
   "source": [
    "in_y_actual, in_y_predict, in_model_coefs, _, _ = prediction(in_X, in_y, in_X, in_y, cv, feature_index, \"feature\")"
   ]
  },
  {
   "cell_type": "markdown",
   "metadata": {},
   "source": [
    "### Fix features on external data"
   ]
  },
  {
   "cell_type": "code",
   "execution_count": null,
   "metadata": {},
   "outputs": [],
   "source": [
    "# using selected features to test on external data\n",
    "ex_y_actual, ex_y_predict, ex_model_coefs, _, _ = prediction(ex_X, ex_y, ex_X, ex_y, cv, feature_index, \"feature\")\n",
    "ex_coef, ex_pvalue = stats.spearmanr(ex_y_actual, ex_y_predict)\n",
    "# permutation\n",
    "ex_coefs = permutation(ex_X, ex_y, ex_X, ex_y, ex_coef, feature_index, \"feature\")"
   ]
  },
  {
   "cell_type": "markdown",
   "metadata": {},
   "source": [
    "## Functional connectivity plot based on the model"
   ]
  },
  {
   "cell_type": "code",
   "execution_count": null,
   "metadata": {},
   "outputs": [],
   "source": [
    "# fc matrix, 1 means item in selected features, 0 means out of selected features\n",
    "fc_sum = recovery_fc(select_rois, feature_index, 1)"
   ]
  },
  {
   "cell_type": "code",
   "execution_count": null,
   "metadata": {},
   "outputs": [],
   "source": [
    "# internal model coefficients matrix\n",
    "in_fc_coef = recovery_fc(select_rois, feature_index, np.array(in_model_coefs).mean(axis=0))\n",
    "# external model coefficients matrix\n",
    "ex_fc_coef = recovery_fc(select_rois, feature_index, np.array(ex_model_coefs).mean(axis=0))"
   ]
  },
  {
   "cell_type": "markdown",
   "metadata": {},
   "source": [
    "## Plot"
   ]
  },
  {
   "cell_type": "markdown",
   "metadata": {},
   "source": [
    "### Plot internal/external prediction/permutation"
   ]
  },
  {
   "cell_type": "markdown",
   "metadata": {},
   "source": [
    "#### Model based on internal data"
   ]
  },
  {
   "cell_type": "code",
   "execution_count": null,
   "metadata": {},
   "outputs": [],
   "source": [
    "# prediction vs. target\n",
    "plot_corr(in_y_actual, in_y_predict, \"./plot/internal_corr.svg\", \"orange\")\n",
    "print(f\"internal CV result: coef is {in_coef}, p value is {in_pvalue:.5f}\")"
   ]
  },
  {
   "cell_type": "code",
   "execution_count": null,
   "metadata": {},
   "outputs": [],
   "source": [
    "# permutation\n",
    "plot_permutation(in_coef, in_coefs, \"./plot/internal_permutation.svg\", \"orange\")"
   ]
  },
  {
   "cell_type": "markdown",
   "metadata": {},
   "source": [
    "#### Model based on external data"
   ]
  },
  {
   "cell_type": "code",
   "execution_count": null,
   "metadata": {},
   "outputs": [],
   "source": [
    "# prediction vs. target\n",
    "plot_corr(ex_y_actual, ex_y_predict, \"./plot/external_corr.svg\", \"#F17D80\")\n",
    "print(f\"external CV result: coef is {ex_coef}, p value is {ex_pvalue:.5f}\")"
   ]
  },
  {
   "cell_type": "code",
   "execution_count": null,
   "metadata": {},
   "outputs": [],
   "source": [
    "# permutation\n",
    "plot_permutation(ex_coef, ex_coefs, \"./plot/external_permutation.svg\", \"#F17D80\")"
   ]
  },
  {
   "cell_type": "markdown",
   "metadata": {},
   "source": [
    "### Plot summarized edges"
   ]
  },
  {
   "cell_type": "code",
   "execution_count": null,
   "metadata": {},
   "outputs": [],
   "source": [
    "# plot 14 communities according to 264ROI\n",
    "plot_conn(comm2rois, fc_sum, save_path=\"./plot/comm_fc_sum.svg\", fontsize=16, colormap=plt.cm.Greens, annot=True)"
   ]
  },
  {
   "cell_type": "code",
   "execution_count": null,
   "metadata": {},
   "outputs": [],
   "source": [
    "# plot 4 networks according to 264ROI\n",
    "plot_conn(network2rois, fc_sum, save_path=\"./plot/network_fc_sum.svg\", fontsize=20, colormap=plt.cm.Greens, annot=True)"
   ]
  },
  {
   "cell_type": "markdown",
   "metadata": {},
   "source": [
    "### Plot model coefficients"
   ]
  },
  {
   "cell_type": "markdown",
   "metadata": {},
   "source": [
    "#### Internal model coefficients"
   ]
  },
  {
   "cell_type": "code",
   "execution_count": null,
   "metadata": {},
   "outputs": [],
   "source": [
    "def plot_conn(name2index, full_matrix, save_path=None, fontsize=12, filter=None, colormap=plt.cm.Blues, annot=False):\n",
    "    # filter networks with valid value\n",
    "    fil_name2index = {name: index for name, index in name2index.items() if abs(np.sum(full_matrix[index])) > 0}\n",
    "    # matrix value filter\n",
    "    tmp_matrix = full_matrix.copy()\n",
    "    if filter == \"abs\":\n",
    "        tmp_matrix = abs(tmp_matrix)\n",
    "    elif filter == \"pos\":\n",
    "        tmp_matrix[tmp_matrix < 0] = 0\n",
    "    elif filter == \"neg\":\n",
    "        tmp_matrix[tmp_matrix > 0] = 0\n",
    "    print(f\"Coefficients sum: {np.sum(tmp_matrix)}\")\n",
    "    # construct plotting fc matrix\n",
    "    fc = np.zeros((len(fil_name2index), len(fil_name2index)))\n",
    "    # get summarized fc matrix\n",
    "    for i, name_1 in enumerate(fil_name2index.keys()):\n",
    "        for j, name_2 in enumerate(fil_name2index.keys()):\n",
    "            fc[i, j] = np.sum(tmp_matrix[np.ix_(fil_name2index[name_1], fil_name2index[name_2])])\n",
    "    # plot\n",
    "    mask = np.zeros_like(fc, dtype=bool)\n",
    "    mask[np.triu_indices_from(mask, k=1)] = True\n",
    "    plt.figure(figsize=(10, 8))\n",
    "    with plt.style.context({\"axes.labelsize\": fontsize, \"xtick.labelsize\": fontsize, \"ytick.labelsize\": fontsize}):\n",
    "        g = sns.heatmap(fc, mask=mask, annot=annot, annot_kws=dict(size=fontsize), fmt=\".0f\", cmap=colormap, linewidths=0.5, square=True, xticklabels=fil_name2index.keys(), yticklabels=fil_name2index.keys())\n",
    "        g.set_xticklabels(g.get_xticklabels(), rotation=45, horizontalalignment=\"right\")\n",
    "        g.set_yticklabels(g.get_yticklabels(), rotation=0, horizontalalignment=\"right\")\n",
    "    if save_path:\n",
    "        plt.savefig(save_path, bbox_inches=\"tight\")"
   ]
  },
  {
   "cell_type": "markdown",
   "metadata": {},
   "source": [
    "##### abs"
   ]
  },
  {
   "cell_type": "code",
   "execution_count": null,
   "metadata": {},
   "outputs": [],
   "source": [
    "# 14 communities\n",
    "plot_conn(comm2rois, in_fc_coef, save_path=\"./plot/in_comm_abs_fc_coeff.svg\", fontsize=16, filter=\"abs\")"
   ]
  },
  {
   "cell_type": "code",
   "execution_count": null,
   "metadata": {},
   "outputs": [],
   "source": [
    "# 4 networks\n",
    "plot_conn(network2rois, in_fc_coef, save_path=\"./plot/in_network_abs_fc_coeff.svg\", fontsize=20, filter=\"abs\")"
   ]
  },
  {
   "cell_type": "markdown",
   "metadata": {},
   "source": [
    "##### pos"
   ]
  },
  {
   "cell_type": "code",
   "execution_count": null,
   "metadata": {},
   "outputs": [],
   "source": [
    "# 14 communities\n",
    "plot_conn(comm2rois, in_fc_coef, save_path=\"./plot/in_comm_pos_fc_coeff.svg\", fontsize=16, filter=\"pos\")"
   ]
  },
  {
   "cell_type": "code",
   "execution_count": null,
   "metadata": {},
   "outputs": [],
   "source": [
    "# 4 networks\n",
    "plot_conn(network2rois, in_fc_coef, save_path=\"./plot/in_network_pos_fc_coeff.svg\", fontsize=20, filter=\"pos\")"
   ]
  },
  {
   "cell_type": "markdown",
   "metadata": {},
   "source": [
    "##### neg"
   ]
  },
  {
   "cell_type": "code",
   "execution_count": null,
   "metadata": {},
   "outputs": [],
   "source": [
    "# 14 communities\n",
    "plot_conn(comm2rois, in_fc_coef, save_path=\"./plot/in_comm_neg_fc_coeff.svg\", fontsize=16, filter=\"neg\", colormap=plt.cm.Blues_r)"
   ]
  },
  {
   "cell_type": "code",
   "execution_count": null,
   "metadata": {},
   "outputs": [],
   "source": [
    "# 4 networks\n",
    "plot_conn(network2rois, in_fc_coef, save_path=\"./plot/in_network_neg_fc_coeff.svg\", fontsize=20, filter=\"neg\", colormap=plt.cm.Blues_r)"
   ]
  },
  {
   "cell_type": "markdown",
   "metadata": {},
   "source": [
    "#### External model coefficients"
   ]
  },
  {
   "cell_type": "markdown",
   "metadata": {},
   "source": [
    "##### abs"
   ]
  },
  {
   "cell_type": "code",
   "execution_count": null,
   "metadata": {},
   "outputs": [],
   "source": [
    "# 14 communities\n",
    "plot_conn(comm2rois, ex_fc_coef, save_path=\"./plot/ex_comm_abs_fc_coeff.svg\", fontsize=16, filter=\"abs\")"
   ]
  },
  {
   "cell_type": "code",
   "execution_count": null,
   "metadata": {},
   "outputs": [],
   "source": [
    "# 4 networks\n",
    "plot_conn(network2rois, ex_fc_coef, save_path=\"./plot/ex_network_abs_fc_coeff.svg\", fontsize=20, filter=\"abs\")"
   ]
  },
  {
   "cell_type": "markdown",
   "metadata": {},
   "source": [
    "##### pos"
   ]
  },
  {
   "cell_type": "code",
   "execution_count": null,
   "metadata": {},
   "outputs": [],
   "source": [
    "# 14 communities\n",
    "plot_conn(comm2rois, ex_fc_coef, save_path=\"./plot/ex_comm_pos_fc_coeff.svg\", fontsize=16, filter=\"pos\")"
   ]
  },
  {
   "cell_type": "code",
   "execution_count": null,
   "metadata": {},
   "outputs": [],
   "source": [
    "# 4 networks\n",
    "plot_conn(network2rois, ex_fc_coef, save_path=\"./plot/ex_network_pos_fc_coeff.svg\", fontsize=20, filter=\"pos\")"
   ]
  },
  {
   "cell_type": "markdown",
   "metadata": {},
   "source": [
    "##### neg"
   ]
  },
  {
   "cell_type": "code",
   "execution_count": null,
   "metadata": {},
   "outputs": [],
   "source": [
    "# 14 communities\n",
    "plot_conn(comm2rois, ex_fc_coef, save_path=\"./plot/ex_comm_neg_fc_coeff.svg\", fontsize=16, filter=\"neg\", colormap=plt.cm.Blues_r)"
   ]
  },
  {
   "cell_type": "code",
   "execution_count": null,
   "metadata": {},
   "outputs": [],
   "source": [
    "# 4 networks\n",
    "plot_conn(network2rois, ex_fc_coef, save_path=\"./plot/ex_network_neg_fc_coeff.svg\", fontsize=20, filter=\"neg\", colormap=plt.cm.Blues_r)"
   ]
  },
  {
   "cell_type": "code",
   "execution_count": null,
   "metadata": {},
   "outputs": [],
   "source": [
    "plt.cm.Blues_r"
   ]
  },
  {
   "cell_type": "markdown",
   "metadata": {},
   "source": [
    "### Plot markers"
   ]
  },
  {
   "cell_type": "code",
   "execution_count": null,
   "metadata": {},
   "outputs": [],
   "source": [
    "from nilearn import plotting, datasets\n",
    "power = datasets.fetch_coords_power_2011()\n",
    "coords = np.vstack((power.rois[\"x\"], power.rois[\"y\"], power.rois[\"z\"])).T\n",
    "spheres_masker = input_data.NiftiSpheresMasker(seeds=coords, radius=5)"
   ]
  },
  {
   "cell_type": "code",
   "execution_count": null,
   "metadata": {},
   "outputs": [],
   "source": [
    "color_mapping = {\n",
    "    \"control\": \"#129490\",\n",
    "    \"moral\": \"#70B77E\",\n",
    "    \"reward\": \"#E0A890\",\n",
    "    \"self\": \"#CE1483\"\n",
    "}\n",
    "sub_coord = np.array([coords[i] for i in select_rois])\n",
    "roi2network = {i: network for network, rois in network2rois.items() for i in rois}\n",
    "node_color = [color_mapping[roi2network[i]] for i in select_rois]"
   ]
  },
  {
   "cell_type": "code",
   "execution_count": null,
   "metadata": {},
   "outputs": [],
   "source": [
    "marker_view = plotting.view_markers(sub_coord, marker_color=node_color, marker_size=8)\n",
    "marker_view.open_in_browser()"
   ]
  },
  {
   "cell_type": "markdown",
   "metadata": {},
   "source": [
    "### Plot internal/external model coefficients of features(FC)"
   ]
  },
  {
   "cell_type": "code",
   "execution_count": null,
   "metadata": {},
   "outputs": [],
   "source": [
    "in_view = plotting.view_connectome(in_fc_coef[np.ix_(select_rois, select_rois)], coords[select_rois], node_color=node_color, node_size=8, edge_threshold=\"99%\", colorbar_fontsize=20)\n",
    "in_view.open_in_browser()"
   ]
  },
  {
   "cell_type": "code",
   "execution_count": null,
   "metadata": {},
   "outputs": [],
   "source": [
    "ex_view = plotting.view_connectome(ex_fc_coef[np.ix_(select_rois, select_rois)], coords[select_rois], node_color=node_color, node_size=8, edge_threshold=\"99%\", colorbar_fontsize=20)\n",
    "ex_view.open_in_browser()"
   ]
  }
 ],
 "metadata": {
  "interpreter": {
   "hash": "ff77f3eb70db2c2db9f44e5fe276b0e815d6106702c860e23aa9ee25eff5b373"
  },
  "kernelspec": {
   "display_name": "Python 3.8.0 64-bit ('fc': conda)",
   "language": "python",
   "name": "python3"
  },
  "language_info": {
   "codemirror_mode": {
    "name": "ipython",
    "version": 3
   },
   "file_extension": ".py",
   "mimetype": "text/x-python",
   "name": "python",
   "nbconvert_exporter": "python",
   "pygments_lexer": "ipython3",
   "version": "3.8.0"
  },
  "orig_nbformat": 4
 },
 "nbformat": 4,
 "nbformat_minor": 2
}
